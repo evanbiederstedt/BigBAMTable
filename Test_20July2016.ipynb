{
 "cells": [
  {
   "cell_type": "code",
   "execution_count": null,
   "metadata": {
    "collapsed": true
   },
   "outputs": [],
   "source": [
    "%matplotlib inline"
   ]
  },
  {
   "cell_type": "code",
   "execution_count": null,
   "metadata": {
    "collapsed": false
   },
   "outputs": [],
   "source": [
    "from ipython_memwatcher import MemWatcher\n",
    "mw = MemWatcher()\n",
    "mw.start_watching_memory()"
   ]
  },
  {
   "cell_type": "code",
   "execution_count": null,
   "metadata": {
    "collapsed": false
   },
   "outputs": [],
   "source": [
    "import pandas as pd"
   ]
  },
  {
   "cell_type": "code",
   "execution_count": null,
   "metadata": {
    "collapsed": false
   },
   "outputs": [],
   "source": [
    "import os \n",
    "os.chdir(\"/Users/evanbiederstedt/\")"
   ]
  },
  {
   "cell_type": "code",
   "execution_count": null,
   "metadata": {
    "collapsed": false
   },
   "outputs": [],
   "source": [
    "# import HDF5 file\n",
    "store = pd.HDFStore(\"result2.h5\")  # around 200 GB"
   ]
  },
  {
   "cell_type": "code",
   "execution_count": null,
   "metadata": {
    "collapsed": false
   },
   "outputs": [],
   "source": [
    "# query non-local QNAMEs\n",
    "df = store.select(\"huge_df\", \n",
    "    where=\"QNAME='E00438:46:HMTV7CCXX:3:2202:4330:8956' or QNAME='E00438:46:HMTV7CCXX:8:1216:21917:20893' or QNAME='E00438:46:HMTV7CCXX:6:2204:25104:51096'\")"
   ]
  },
  {
   "cell_type": "code",
   "execution_count": null,
   "metadata": {
    "collapsed": false
   },
   "outputs": [],
   "source": [
    "df"
   ]
  },
  {
   "cell_type": "code",
   "execution_count": null,
   "metadata": {
    "collapsed": false
   },
   "outputs": [],
   "source": [
    "# even MORE non-local\n",
    "# query non-local QNAMEs\n",
    "df = store.select(\"huge_df\", \n",
    "    where=\"QNAME='E00438:46:HMTV7CCXX:3:2202:4330:8956' or QNAME='E00438:46:HMTV7CCXX:8:1216:21917:20893' or QNAME='E00438:46:HMTV7CCXX:6:2204:25104:51096' or QNAME='E00438:46:HMTV7CCXX:2:2208:26626:58444'\")"
   ]
  },
  {
   "cell_type": "code",
   "execution_count": null,
   "metadata": {
    "collapsed": false
   },
   "outputs": [],
   "source": [
    "df"
   ]
  },
  {
   "cell_type": "code",
   "execution_count": null,
   "metadata": {
    "collapsed": false
   },
   "outputs": [],
   "source": [
    "# even MORE non-local\n",
    "# query non-local QNAMEs\n",
    "df = store.select(\"huge_df\", \n",
    "    where=\"QNAME='E00438:46:HMTV7CCXX:3:2202:4330:8956' or QNAME='E00438:46:HMTV7CCXX:8:1216:21917:20893' or QNAME='E00438:46:HMTV7CCXX:6:2204:25104:51096' or QNAME='E00438:46:HMTV7CCXX:2:2208:26626:58444' or QNAME='E00438:46:HMTV7CCXX:1:1213:11190:64474'\")"
   ]
  },
  {
   "cell_type": "code",
   "execution_count": null,
   "metadata": {
    "collapsed": false
   },
   "outputs": [],
   "source": [
    "df"
   ]
  },
  {
   "cell_type": "code",
   "execution_count": null,
   "metadata": {
    "collapsed": true
   },
   "outputs": [],
   "source": [
    "df = store.select(\"huge_df\", \n",
    "    where=\"QNAME='E00438:46:HMTV7CCXX:3:2202:4330:8956' or QNAME='E00438:46:HMTV7CCXX:8:1216:21917:20893' or QNAME='E00438:46:HMTV7CCXX:6:2204:25104:51096' or QNAME='E00438:46:HMTV7CCXX:2:2208:26626:58444' or QNAME='E00438:46:HMTV7CCXX:1:1213:11190:64474'\")"
   ]
  },
  {
   "cell_type": "code",
   "execution_count": null,
   "metadata": {
    "collapsed": true
   },
   "outputs": [],
   "source": [
    "df"
   ]
  }
 ],
 "metadata": {
  "kernelspec": {
   "display_name": "Python 3",
   "language": "python",
   "name": "python3"
  },
  "language_info": {
   "codemirror_mode": {
    "name": "ipython",
    "version": 3
   },
   "file_extension": ".py",
   "mimetype": "text/x-python",
   "name": "python",
   "nbconvert_exporter": "python",
   "pygments_lexer": "ipython3",
   "version": "3.4.5"
  }
 },
 "nbformat": 4,
 "nbformat_minor": 0
}
