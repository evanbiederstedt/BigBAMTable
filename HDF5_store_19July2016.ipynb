{
 "cells": [
  {
   "cell_type": "code",
   "execution_count": 1,
   "metadata": {
    "collapsed": true
   },
   "outputs": [],
   "source": [
    "%matplotlib inline"
   ]
  },
  {
   "cell_type": "code",
   "execution_count": 2,
   "metadata": {
    "collapsed": true
   },
   "outputs": [],
   "source": [
    "import os\n",
    "os.chdir(\"/Users/evanbiederstedt/downloads\")"
   ]
  },
  {
   "cell_type": "code",
   "execution_count": 3,
   "metadata": {
    "collapsed": false
   },
   "outputs": [],
   "source": [
    "import tables"
   ]
  },
  {
   "cell_type": "code",
   "execution_count": 4,
   "metadata": {
    "collapsed": false
   },
   "outputs": [
    {
     "name": "stdout",
     "output_type": "stream",
     "text": [
      "In [4] used 0.008 MiB RAM in 0.001s, peaked 0.000 MiB above current, total RAM usage 65.789 MiB\n"
     ]
    }
   ],
   "source": [
    "from ipython_memwatcher import MemWatcher\n",
    "mw = MemWatcher()\n",
    "mw.start_watching_memory()"
   ]
  },
  {
   "cell_type": "code",
   "execution_count": 5,
   "metadata": {
    "collapsed": false
   },
   "outputs": [
    {
     "name": "stdout",
     "output_type": "stream",
     "text": [
      "In [5] used 0.020 MiB RAM in 0.002s, peaked 0.000 MiB above current, total RAM usage 65.809 MiB\n"
     ]
    }
   ],
   "source": [
    "#\n",
    "# (1) How to import data\n",
    "# (2) How to do indexing\n",
    "#\n",
    "#"
   ]
  },
  {
   "cell_type": "code",
   "execution_count": 6,
   "metadata": {
    "collapsed": false
   },
   "outputs": [
    {
     "name": "stdout",
     "output_type": "stream",
     "text": [
      "In [6] used 16.207 MiB RAM in 0.373s, peaked 0.000 MiB above current, total RAM usage 82.016 MiB\n"
     ]
    }
   ],
   "source": [
    "import pandas as pd"
   ]
  },
  {
   "cell_type": "code",
   "execution_count": 7,
   "metadata": {
    "collapsed": false
   },
   "outputs": [
    {
     "name": "stdout",
     "output_type": "stream",
     "text": [
      "In [7] used 0.035 MiB RAM in 0.001s, peaked 0.000 MiB above current, total RAM usage 82.051 MiB\n"
     ]
    }
   ],
   "source": [
    "fname = 'wgEncodeUwRepliSeqBjS4AlnRep2.dat'"
   ]
  },
  {
   "cell_type": "code",
   "execution_count": 8,
   "metadata": {
    "collapsed": false
   },
   "outputs": [
    {
     "name": "stdout",
     "output_type": "stream",
     "text": [
      "In [8] used 1511.367 MiB RAM in 16.274s, peaked 7.488 MiB above current, total RAM usage 1593.418 MiB\n"
     ]
    }
   ],
   "source": [
    "df = pd.read_table(fname, names= ['QNAME', 'FLAG', 'RNAME', 'POS', 'MAPQ', 'CIGAR', \n",
    "                                  'RNEXT', 'PNEXT', 'TLEN', 'SEQ', 'QUAL', 'COL12', 'COL13', 'COL14'], header=None)"
   ]
  },
  {
   "cell_type": "code",
   "execution_count": 9,
   "metadata": {
    "collapsed": false
   },
   "outputs": [
    {
     "data": {
      "text/plain": [
       "(3254334, 14)"
      ]
     },
     "execution_count": 9,
     "metadata": {},
     "output_type": "execute_result"
    },
    {
     "name": "stdout",
     "output_type": "stream",
     "text": [
      "In [9] used -0.020 MiB RAM in 0.005s, peaked 0.000 MiB above current, total RAM usage 1593.398 MiB\n"
     ]
    }
   ],
   "source": [
    "df.shape"
   ]
  },
  {
   "cell_type": "code",
   "execution_count": 10,
   "metadata": {
    "collapsed": false
   },
   "outputs": [
    {
     "data": {
      "text/plain": [
       "Index(['QNAME', 'FLAG', 'RNAME', 'POS', 'MAPQ', 'CIGAR', 'RNEXT', 'PNEXT',\n",
       "       'TLEN', 'SEQ', 'QUAL', 'COL12', 'COL13', 'COL14'],\n",
       "      dtype='object')"
      ]
     },
     "execution_count": 10,
     "metadata": {},
     "output_type": "execute_result"
    },
    {
     "name": "stdout",
     "output_type": "stream",
     "text": [
      "In [10] used 0.031 MiB RAM in 0.011s, peaked 0.000 MiB above current, total RAM usage 1593.430 MiB\n"
     ]
    }
   ],
   "source": [
    "df.columns"
   ]
  },
  {
   "cell_type": "code",
   "execution_count": 11,
   "metadata": {
    "collapsed": false
   },
   "outputs": [
    {
     "data": {
      "text/html": [
       "<div>\n",
       "<table border=\"1\" class=\"dataframe\">\n",
       "  <thead>\n",
       "    <tr style=\"text-align: right;\">\n",
       "      <th></th>\n",
       "      <th>QNAME</th>\n",
       "      <th>FLAG</th>\n",
       "      <th>RNAME</th>\n",
       "      <th>POS</th>\n",
       "      <th>MAPQ</th>\n",
       "      <th>CIGAR</th>\n",
       "      <th>RNEXT</th>\n",
       "      <th>PNEXT</th>\n",
       "      <th>TLEN</th>\n",
       "      <th>SEQ</th>\n",
       "      <th>QUAL</th>\n",
       "      <th>COL12</th>\n",
       "      <th>COL13</th>\n",
       "      <th>COL14</th>\n",
       "    </tr>\n",
       "  </thead>\n",
       "  <tbody>\n",
       "    <tr>\n",
       "      <th>0</th>\n",
       "      <td>SOLEXA-1GA-2:7:97:424:674#0</td>\n",
       "      <td>16</td>\n",
       "      <td>chr1</td>\n",
       "      <td>10149</td>\n",
       "      <td>25</td>\n",
       "      <td>36M</td>\n",
       "      <td>*</td>\n",
       "      <td>0</td>\n",
       "      <td>0</td>\n",
       "      <td>CCTAACCCTAACACCAACCCAAACCCTAACCTAACC</td>\n",
       "      <td>ZOO_]XVQX`b_^Y`ba`[abb`a^b`b_aa`a_aa</td>\n",
       "      <td>NM:i:1</td>\n",
       "      <td>X1:i:1</td>\n",
       "      <td>MD:Z:15A5C1A12</td>\n",
       "    </tr>\n",
       "    <tr>\n",
       "      <th>1</th>\n",
       "      <td>SOLEXA-1GA-2:7:11:176:1183#0</td>\n",
       "      <td>16</td>\n",
       "      <td>chr1</td>\n",
       "      <td>10150</td>\n",
       "      <td>25</td>\n",
       "      <td>36M</td>\n",
       "      <td>*</td>\n",
       "      <td>0</td>\n",
       "      <td>0</td>\n",
       "      <td>CTAACCCTACCCCTAACCATACCCCTAACCTAACCC</td>\n",
       "      <td>[M_^b`a``baba_b``ab_\\_bab`b_aaab_aba</td>\n",
       "      <td>NM:i:1</td>\n",
       "      <td>X1:i:1</td>\n",
       "      <td>MD:Z:14C2A8C9</td>\n",
       "    </tr>\n",
       "    <tr>\n",
       "      <th>2</th>\n",
       "      <td>SOLEXA-1GA-2:7:76:985:1036#0</td>\n",
       "      <td>0</td>\n",
       "      <td>chr1</td>\n",
       "      <td>10152</td>\n",
       "      <td>25</td>\n",
       "      <td>36M</td>\n",
       "      <td>*</td>\n",
       "      <td>0</td>\n",
       "      <td>0</td>\n",
       "      <td>AACCCTAACCCCCACCCTAACCCTGACCTAACCCTA</td>\n",
       "      <td>LTZXRaWZZa_YG^aT_TK]WaQHDJRZFWHZ\\aX^</td>\n",
       "      <td>NM:i:1</td>\n",
       "      <td>X1:i:1</td>\n",
       "      <td>MD:Z:11C0C11G11</td>\n",
       "    </tr>\n",
       "    <tr>\n",
       "      <th>3</th>\n",
       "      <td>SOLEXA-1GA-2:7:61:1053:1918#0</td>\n",
       "      <td>16</td>\n",
       "      <td>chr1</td>\n",
       "      <td>10159</td>\n",
       "      <td>25</td>\n",
       "      <td>36M</td>\n",
       "      <td>*</td>\n",
       "      <td>0</td>\n",
       "      <td>0</td>\n",
       "      <td>ACCCTAACCCTAACCCTAACCTAACCCTAACCCTAA</td>\n",
       "      <td>`ZZ^^b^\\]Z[b^`R]_b]_Z]b]aaa_a_aaa_ba</td>\n",
       "      <td>NM:i:0</td>\n",
       "      <td>X0:i:1</td>\n",
       "      <td>MD:Z:36</td>\n",
       "    </tr>\n",
       "    <tr>\n",
       "      <th>4</th>\n",
       "      <td>SOLEXA-1GA-2:7:3:963:1025#0</td>\n",
       "      <td>0</td>\n",
       "      <td>chr1</td>\n",
       "      <td>10244</td>\n",
       "      <td>25</td>\n",
       "      <td>36M</td>\n",
       "      <td>*</td>\n",
       "      <td>0</td>\n",
       "      <td>0</td>\n",
       "      <td>CCCTAAACCCTAAACCCTAACCCTAACCCTAACCCT</td>\n",
       "      <td>aba`bba_bUbbb][U^bba[_aaab`aTZ``]aXH</td>\n",
       "      <td>NM:i:0</td>\n",
       "      <td>X0:i:1</td>\n",
       "      <td>MD:Z:36</td>\n",
       "    </tr>\n",
       "  </tbody>\n",
       "</table>\n",
       "</div>"
      ],
      "text/plain": [
       "                           QNAME  FLAG RNAME    POS  MAPQ CIGAR RNEXT  PNEXT  \\\n",
       "0    SOLEXA-1GA-2:7:97:424:674#0    16  chr1  10149    25   36M     *      0   \n",
       "1   SOLEXA-1GA-2:7:11:176:1183#0    16  chr1  10150    25   36M     *      0   \n",
       "2   SOLEXA-1GA-2:7:76:985:1036#0     0  chr1  10152    25   36M     *      0   \n",
       "3  SOLEXA-1GA-2:7:61:1053:1918#0    16  chr1  10159    25   36M     *      0   \n",
       "4    SOLEXA-1GA-2:7:3:963:1025#0     0  chr1  10244    25   36M     *      0   \n",
       "\n",
       "   TLEN                                   SEQ  \\\n",
       "0     0  CCTAACCCTAACACCAACCCAAACCCTAACCTAACC   \n",
       "1     0  CTAACCCTACCCCTAACCATACCCCTAACCTAACCC   \n",
       "2     0  AACCCTAACCCCCACCCTAACCCTGACCTAACCCTA   \n",
       "3     0  ACCCTAACCCTAACCCTAACCTAACCCTAACCCTAA   \n",
       "4     0  CCCTAAACCCTAAACCCTAACCCTAACCCTAACCCT   \n",
       "\n",
       "                                   QUAL   COL12   COL13            COL14  \n",
       "0  ZOO_]XVQX`b_^Y`ba`[abb`a^b`b_aa`a_aa  NM:i:1  X1:i:1   MD:Z:15A5C1A12  \n",
       "1  [M_^b`a``baba_b``ab_\\_bab`b_aaab_aba  NM:i:1  X1:i:1    MD:Z:14C2A8C9  \n",
       "2  LTZXRaWZZa_YG^aT_TK]WaQHDJRZFWHZ\\aX^  NM:i:1  X1:i:1  MD:Z:11C0C11G11  \n",
       "3  `ZZ^^b^\\]Z[b^`R]_b]_Z]b]aaa_a_aaa_ba  NM:i:0  X0:i:1          MD:Z:36  \n",
       "4  aba`bba_bUbbb][U^bba[_aaab`aTZ``]aXH  NM:i:0  X0:i:1          MD:Z:36  "
      ]
     },
     "execution_count": 11,
     "metadata": {},
     "output_type": "execute_result"
    },
    {
     "name": "stdout",
     "output_type": "stream",
     "text": [
      "In [11] used 0.191 MiB RAM in 0.047s, peaked 0.000 MiB above current, total RAM usage 1593.621 MiB\n"
     ]
    }
   ],
   "source": [
    "df.head()"
   ]
  },
  {
   "cell_type": "code",
   "execution_count": 12,
   "metadata": {
    "collapsed": false
   },
   "outputs": [
    {
     "name": "stdout",
     "output_type": "stream",
     "text": [
      "In [12] used 0.023 MiB RAM in 0.001s, peaked 0.000 MiB above current, total RAM usage 1593.645 MiB\n"
     ]
    }
   ],
   "source": [
    "from tables import *"
   ]
  },
  {
   "cell_type": "code",
   "execution_count": 13,
   "metadata": {
    "collapsed": false
   },
   "outputs": [
    {
     "name": "stdout",
     "output_type": "stream",
     "text": [
      "In [13] used 0.020 MiB RAM in 0.001s, peaked 0.000 MiB above current, total RAM usage 1593.664 MiB\n"
     ]
    }
   ],
   "source": [
    "import pandas as pd\n"
   ]
  },
  {
   "cell_type": "code",
   "execution_count": 14,
   "metadata": {
    "collapsed": false
   },
   "outputs": [
    {
     "name": "stdout",
     "output_type": "stream",
     "text": [
      "In [14] used 1.062 MiB RAM in 0.015s, peaked 0.000 MiB above current, total RAM usage 1594.727 MiB\n"
     ]
    }
   ],
   "source": [
    "store = pd.HDFStore('storetest1.h5')  # creates new file"
   ]
  },
  {
   "cell_type": "code",
   "execution_count": 15,
   "metadata": {
    "collapsed": false
   },
   "outputs": [
    {
     "name": "stdout",
     "output_type": "stream",
     "text": [
      "<class 'pandas.io.pytables.HDFStore'>\n",
      "File path: storetest1.h5\n",
      "/key_name             frame_table  (typ->appendable,nrows->13017336,ncols->14,indexers->[index],dc->[FLAG,RNAME])\n",
      "/key_name2            frame_table  (typ->appendable,nrows->10032912,ncols->14,indexers->[index],dc->[FLAG,MAPQ]) \n",
      "In [15] used 1.156 MiB RAM in 0.063s, peaked 0.000 MiB above current, total RAM usage 1595.883 MiB\n"
     ]
    }
   ],
   "source": [
    "print(store)"
   ]
  },
  {
   "cell_type": "code",
   "execution_count": 16,
   "metadata": {
    "collapsed": false
   },
   "outputs": [
    {
     "name": "stdout",
     "output_type": "stream",
     "text": [
      "In [16] used -28.359 MiB RAM in 41.859s, peaked 2783.605 MiB above current, total RAM usage 1567.523 MiB\n"
     ]
    }
   ],
   "source": [
    "# indexed just a subset of columns\n",
    "\n",
    "store.append('key_name', df, data_columns=['FLAG','RNAME'])\n"
   ]
  },
  {
   "cell_type": "code",
   "execution_count": 17,
   "metadata": {
    "collapsed": false
   },
   "outputs": [
    {
     "data": {
      "text/plain": [
       "<class 'pandas.io.pytables.HDFStore'>\n",
       "File path: storetest1.h5\n",
       "/key_name             frame_table  (typ->appendable,nrows->16271670,ncols->14,indexers->[index],dc->[FLAG,RNAME])\n",
       "/key_name2            frame_table  (typ->appendable,nrows->10032912,ncols->14,indexers->[index],dc->[FLAG,MAPQ]) "
      ]
     },
     "execution_count": 17,
     "metadata": {},
     "output_type": "execute_result"
    },
    {
     "name": "stdout",
     "output_type": "stream",
     "text": [
      "In [17] used -0.070 MiB RAM in 0.011s, peaked 0.000 MiB above current, total RAM usage 1567.453 MiB\n"
     ]
    }
   ],
   "source": [
    "store"
   ]
  },
  {
   "cell_type": "code",
   "execution_count": 18,
   "metadata": {
    "collapsed": false
   },
   "outputs": [
    {
     "name": "stdout",
     "output_type": "stream",
     "text": [
      "In [18] used 0.016 MiB RAM in 0.001s, peaked 0.000 MiB above current, total RAM usage 1567.469 MiB\n"
     ]
    }
   ],
   "source": [
    "# result = [rec for rec in store.where('RNAME==chr1 & FLAG==0')]"
   ]
  },
  {
   "cell_type": "code",
   "execution_count": 19,
   "metadata": {
    "collapsed": false
   },
   "outputs": [
    {
     "name": "stdout",
     "output_type": "stream",
     "text": [
      "In [19] used 613.988 MiB RAM in 9.119s, peaked 112.750 MiB above current, total RAM usage 2181.457 MiB\n"
     ]
    }
   ],
   "source": [
    "df = store.select('key_name', where='RNAME==chr1 & FLAG==0') "
   ]
  },
  {
   "cell_type": "code",
   "execution_count": 20,
   "metadata": {
    "collapsed": false
   },
   "outputs": [
    {
     "data": {
      "text/plain": [
       "(587720, 14)"
      ]
     },
     "execution_count": 20,
     "metadata": {},
     "output_type": "execute_result"
    },
    {
     "name": "stdout",
     "output_type": "stream",
     "text": [
      "In [20] used 0.004 MiB RAM in 0.003s, peaked 0.000 MiB above current, total RAM usage 2181.461 MiB\n"
     ]
    }
   ],
   "source": [
    "df.shape"
   ]
  },
  {
   "cell_type": "code",
   "execution_count": 21,
   "metadata": {
    "collapsed": false
   },
   "outputs": [
    {
     "name": "stdout",
     "output_type": "stream",
     "text": [
      "In [21] used 652.996 MiB RAM in 12.490s, peaked 120.457 MiB above current, total RAM usage 2834.457 MiB\n"
     ]
    }
   ],
   "source": [
    "df = store.select('key_name', where='RNAME==chr2 & FLAG==0') "
   ]
  },
  {
   "cell_type": "code",
   "execution_count": 22,
   "metadata": {
    "collapsed": false
   },
   "outputs": [
    {
     "data": {
      "text/plain": [
       "(674775, 14)"
      ]
     },
     "execution_count": 22,
     "metadata": {},
     "output_type": "execute_result"
    },
    {
     "name": "stdout",
     "output_type": "stream",
     "text": [
      "In [22] used -0.043 MiB RAM in 0.004s, peaked 0.000 MiB above current, total RAM usage 2834.414 MiB\n"
     ]
    }
   ],
   "source": [
    "df.shape"
   ]
  },
  {
   "cell_type": "code",
   "execution_count": 23,
   "metadata": {
    "collapsed": false
   },
   "outputs": [
    {
     "name": "stdout",
     "output_type": "stream",
     "text": [
      "In [23] used 1433.910 MiB RAM in 17.452s, peaked 7.488 MiB above current, total RAM usage 4268.324 MiB\n"
     ]
    }
   ],
   "source": [
    "pdf1 = pd.read_table(fname, names= ['QNAME', 'FLAG', 'RNAME', 'POS', 'MAPQ', 'CIGAR', \n",
    "                                  'RNEXT', 'PNEXT', 'TLEN', 'SEQ', 'QUAL', 'COL12', 'COL13', 'COL14'], header=None)"
   ]
  },
  {
   "cell_type": "code",
   "execution_count": 24,
   "metadata": {
    "collapsed": false
   },
   "outputs": [
    {
     "name": "stdout",
     "output_type": "stream",
     "text": [
      "In [24] used -60.824 MiB RAM in 37.410s, peaked 3133.312 MiB above current, total RAM usage 4207.500 MiB\n"
     ]
    }
   ],
   "source": [
    "store.append('key_name2', pdf1, data_columns=['FLAG','MAPQ'])   # MAPQ index"
   ]
  },
  {
   "cell_type": "code",
   "execution_count": 25,
   "metadata": {
    "collapsed": false
   },
   "outputs": [
    {
     "name": "stdout",
     "output_type": "stream",
     "text": [
      "In [25] used 2.168 MiB RAM in 0.482s, peaked 0.000 MiB above current, total RAM usage 4209.668 MiB\n"
     ]
    }
   ],
   "source": [
    "df2 = store.select('key_name2', where='MAPQ<25 & FLAG==0') "
   ]
  },
  {
   "cell_type": "code",
   "execution_count": 26,
   "metadata": {
    "collapsed": false
   },
   "outputs": [
    {
     "data": {
      "text/plain": [
       "(4, 14)"
      ]
     },
     "execution_count": 26,
     "metadata": {},
     "output_type": "execute_result"
    },
    {
     "name": "stdout",
     "output_type": "stream",
     "text": [
      "In [26] used 0.016 MiB RAM in 0.004s, peaked 0.000 MiB above current, total RAM usage 4209.684 MiB\n"
     ]
    }
   ],
   "source": [
    "df2.shape"
   ]
  },
  {
   "cell_type": "code",
   "execution_count": 27,
   "metadata": {
    "collapsed": false
   },
   "outputs": [
    {
     "ename": "KeyboardInterrupt",
     "evalue": "",
     "output_type": "error",
     "traceback": [
      "\u001b[0;31m---------------------------------------------------------------------------\u001b[0m",
      "\u001b[0;31mKeyboardInterrupt\u001b[0m                         Traceback (most recent call last)",
      "\u001b[0;32m<ipython-input-27-6eda53e339bf>\u001b[0m in \u001b[0;36m<module>\u001b[0;34m()\u001b[0m\n\u001b[0;32m----> 1\u001b[0;31m \u001b[0mdf3\u001b[0m \u001b[0;34m=\u001b[0m \u001b[0mstore\u001b[0m\u001b[0;34m.\u001b[0m\u001b[0mselect\u001b[0m\u001b[0;34m(\u001b[0m\u001b[0;34m'key_name2'\u001b[0m\u001b[0;34m,\u001b[0m \u001b[0mwhere\u001b[0m\u001b[0;34m=\u001b[0m\u001b[0;34m'MAPQ==25 & FLAG==0'\u001b[0m\u001b[0;34m)\u001b[0m \u001b[0;31m# HUGE QUERY!!!\u001b[0m\u001b[0;34m\u001b[0m\u001b[0m\n\u001b[0m",
      "\u001b[0;32m/opt/local/Library/Frameworks/Python.framework/Versions/3.4/lib/python3.4/site-packages/pandas/io/pytables.py\u001b[0m in \u001b[0;36mselect\u001b[0;34m(self, key, where, start, stop, columns, iterator, chunksize, auto_close, **kwargs)\u001b[0m\n\u001b[1;32m    678\u001b[0m                            chunksize=chunksize, auto_close=auto_close)\n\u001b[1;32m    679\u001b[0m \u001b[0;34m\u001b[0m\u001b[0m\n\u001b[0;32m--> 680\u001b[0;31m         \u001b[0;32mreturn\u001b[0m \u001b[0mit\u001b[0m\u001b[0;34m.\u001b[0m\u001b[0mget_result\u001b[0m\u001b[0;34m(\u001b[0m\u001b[0;34m)\u001b[0m\u001b[0;34m\u001b[0m\u001b[0m\n\u001b[0m\u001b[1;32m    681\u001b[0m \u001b[0;34m\u001b[0m\u001b[0m\n\u001b[1;32m    682\u001b[0m     def select_as_coordinates(\n",
      "\u001b[0;32m/opt/local/Library/Frameworks/Python.framework/Versions/3.4/lib/python3.4/site-packages/pandas/io/pytables.py\u001b[0m in \u001b[0;36mget_result\u001b[0;34m(self, coordinates)\u001b[0m\n\u001b[1;32m   1362\u001b[0m \u001b[0;34m\u001b[0m\u001b[0m\n\u001b[1;32m   1363\u001b[0m         \u001b[0;31m# directly return the result\u001b[0m\u001b[0;34m\u001b[0m\u001b[0;34m\u001b[0m\u001b[0m\n\u001b[0;32m-> 1364\u001b[0;31m         \u001b[0mresults\u001b[0m \u001b[0;34m=\u001b[0m \u001b[0mself\u001b[0m\u001b[0;34m.\u001b[0m\u001b[0mfunc\u001b[0m\u001b[0;34m(\u001b[0m\u001b[0mself\u001b[0m\u001b[0;34m.\u001b[0m\u001b[0mstart\u001b[0m\u001b[0;34m,\u001b[0m \u001b[0mself\u001b[0m\u001b[0;34m.\u001b[0m\u001b[0mstop\u001b[0m\u001b[0;34m,\u001b[0m \u001b[0mwhere\u001b[0m\u001b[0;34m)\u001b[0m\u001b[0;34m\u001b[0m\u001b[0m\n\u001b[0m\u001b[1;32m   1365\u001b[0m         \u001b[0mself\u001b[0m\u001b[0;34m.\u001b[0m\u001b[0mclose\u001b[0m\u001b[0;34m(\u001b[0m\u001b[0;34m)\u001b[0m\u001b[0;34m\u001b[0m\u001b[0m\n\u001b[1;32m   1366\u001b[0m         \u001b[0;32mreturn\u001b[0m \u001b[0mresults\u001b[0m\u001b[0;34m\u001b[0m\u001b[0m\n",
      "\u001b[0;32m/opt/local/Library/Frameworks/Python.framework/Versions/3.4/lib/python3.4/site-packages/pandas/io/pytables.py\u001b[0m in \u001b[0;36mfunc\u001b[0;34m(_start, _stop, _where)\u001b[0m\n\u001b[1;32m    671\u001b[0m             return s.read(start=_start, stop=_stop,\n\u001b[1;32m    672\u001b[0m                           \u001b[0mwhere\u001b[0m\u001b[0;34m=\u001b[0m\u001b[0m_where\u001b[0m\u001b[0;34m,\u001b[0m\u001b[0;34m\u001b[0m\u001b[0m\n\u001b[0;32m--> 673\u001b[0;31m                           columns=columns, **kwargs)\n\u001b[0m\u001b[1;32m    674\u001b[0m \u001b[0;34m\u001b[0m\u001b[0m\n\u001b[1;32m    675\u001b[0m         \u001b[0;31m# create the iterator\u001b[0m\u001b[0;34m\u001b[0m\u001b[0;34m\u001b[0m\u001b[0m\n",
      "\u001b[0;32m/opt/local/Library/Frameworks/Python.framework/Versions/3.4/lib/python3.4/site-packages/pandas/io/pytables.py\u001b[0m in \u001b[0;36mread\u001b[0;34m(self, where, columns, **kwargs)\u001b[0m\n\u001b[1;32m   4019\u001b[0m     \u001b[0;32mdef\u001b[0m \u001b[0mread\u001b[0m\u001b[0;34m(\u001b[0m\u001b[0mself\u001b[0m\u001b[0;34m,\u001b[0m \u001b[0mwhere\u001b[0m\u001b[0;34m=\u001b[0m\u001b[0;32mNone\u001b[0m\u001b[0;34m,\u001b[0m \u001b[0mcolumns\u001b[0m\u001b[0;34m=\u001b[0m\u001b[0;32mNone\u001b[0m\u001b[0;34m,\u001b[0m \u001b[0;34m**\u001b[0m\u001b[0mkwargs\u001b[0m\u001b[0;34m)\u001b[0m\u001b[0;34m:\u001b[0m\u001b[0;34m\u001b[0m\u001b[0m\n\u001b[1;32m   4020\u001b[0m \u001b[0;34m\u001b[0m\u001b[0m\n\u001b[0;32m-> 4021\u001b[0;31m         \u001b[0;32mif\u001b[0m \u001b[0;32mnot\u001b[0m \u001b[0mself\u001b[0m\u001b[0;34m.\u001b[0m\u001b[0mread_axes\u001b[0m\u001b[0;34m(\u001b[0m\u001b[0mwhere\u001b[0m\u001b[0;34m=\u001b[0m\u001b[0mwhere\u001b[0m\u001b[0;34m,\u001b[0m \u001b[0;34m**\u001b[0m\u001b[0mkwargs\u001b[0m\u001b[0;34m)\u001b[0m\u001b[0;34m:\u001b[0m\u001b[0;34m\u001b[0m\u001b[0m\n\u001b[0m\u001b[1;32m   4022\u001b[0m             \u001b[0;32mreturn\u001b[0m \u001b[0;32mNone\u001b[0m\u001b[0;34m\u001b[0m\u001b[0m\n\u001b[1;32m   4023\u001b[0m \u001b[0;34m\u001b[0m\u001b[0m\n",
      "\u001b[0;32m/opt/local/Library/Frameworks/Python.framework/Versions/3.4/lib/python3.4/site-packages/pandas/io/pytables.py\u001b[0m in \u001b[0;36mread_axes\u001b[0;34m(self, where, **kwargs)\u001b[0m\n\u001b[1;32m   3226\u001b[0m         \u001b[0;32mfor\u001b[0m \u001b[0ma\u001b[0m \u001b[0;32min\u001b[0m \u001b[0mself\u001b[0m\u001b[0;34m.\u001b[0m\u001b[0maxes\u001b[0m\u001b[0;34m:\u001b[0m\u001b[0;34m\u001b[0m\u001b[0m\n\u001b[1;32m   3227\u001b[0m             \u001b[0ma\u001b[0m\u001b[0;34m.\u001b[0m\u001b[0mset_info\u001b[0m\u001b[0;34m(\u001b[0m\u001b[0mself\u001b[0m\u001b[0;34m.\u001b[0m\u001b[0minfo\u001b[0m\u001b[0;34m)\u001b[0m\u001b[0;34m\u001b[0m\u001b[0m\n\u001b[0;32m-> 3228\u001b[0;31m             \u001b[0ma\u001b[0m\u001b[0;34m.\u001b[0m\u001b[0mconvert\u001b[0m\u001b[0;34m(\u001b[0m\u001b[0mvalues\u001b[0m\u001b[0;34m,\u001b[0m \u001b[0mnan_rep\u001b[0m\u001b[0;34m=\u001b[0m\u001b[0mself\u001b[0m\u001b[0;34m.\u001b[0m\u001b[0mnan_rep\u001b[0m\u001b[0;34m,\u001b[0m \u001b[0mencoding\u001b[0m\u001b[0;34m=\u001b[0m\u001b[0mself\u001b[0m\u001b[0;34m.\u001b[0m\u001b[0mencoding\u001b[0m\u001b[0;34m)\u001b[0m\u001b[0;34m\u001b[0m\u001b[0m\n\u001b[0m\u001b[1;32m   3229\u001b[0m \u001b[0;34m\u001b[0m\u001b[0m\n\u001b[1;32m   3230\u001b[0m         \u001b[0;32mreturn\u001b[0m \u001b[0;32mTrue\u001b[0m\u001b[0;34m\u001b[0m\u001b[0m\n",
      "\u001b[0;32m/opt/local/Library/Frameworks/Python.framework/Versions/3.4/lib/python3.4/site-packages/pandas/io/pytables.py\u001b[0m in \u001b[0;36mconvert\u001b[0;34m(self, values, nan_rep, encoding)\u001b[0m\n\u001b[1;32m   2054\u001b[0m         \u001b[0;32mif\u001b[0m \u001b[0m_ensure_decoded\u001b[0m\u001b[0;34m(\u001b[0m\u001b[0mself\u001b[0m\u001b[0;34m.\u001b[0m\u001b[0mkind\u001b[0m\u001b[0;34m)\u001b[0m \u001b[0;34m==\u001b[0m \u001b[0mu\u001b[0m\u001b[0;34m(\u001b[0m\u001b[0;34m'string'\u001b[0m\u001b[0;34m)\u001b[0m\u001b[0;34m:\u001b[0m\u001b[0;34m\u001b[0m\u001b[0m\n\u001b[1;32m   2055\u001b[0m             self.data = _unconvert_string_array(\n\u001b[0;32m-> 2056\u001b[0;31m                 self.data, nan_rep=nan_rep, encoding=encoding)\n\u001b[0m\u001b[1;32m   2057\u001b[0m \u001b[0;34m\u001b[0m\u001b[0m\n\u001b[1;32m   2058\u001b[0m         \u001b[0;32mreturn\u001b[0m \u001b[0mself\u001b[0m\u001b[0;34m\u001b[0m\u001b[0m\n",
      "\u001b[0;32m/opt/local/Library/Frameworks/Python.framework/Versions/3.4/lib/python3.4/site-packages/pandas/io/pytables.py\u001b[0m in \u001b[0;36m_unconvert_string_array\u001b[0;34m(data, nan_rep, encoding)\u001b[0m\n\u001b[1;32m   4480\u001b[0m     \u001b[0;32mif\u001b[0m \u001b[0mencoding\u001b[0m \u001b[0;32mis\u001b[0m \u001b[0;32mnot\u001b[0m \u001b[0;32mNone\u001b[0m \u001b[0;32mand\u001b[0m \u001b[0mlen\u001b[0m\u001b[0;34m(\u001b[0m\u001b[0mdata\u001b[0m\u001b[0;34m)\u001b[0m\u001b[0;34m:\u001b[0m\u001b[0;34m\u001b[0m\u001b[0m\n\u001b[1;32m   4481\u001b[0m \u001b[0;34m\u001b[0m\u001b[0m\n\u001b[0;32m-> 4482\u001b[0;31m         \u001b[0mitemsize\u001b[0m \u001b[0;34m=\u001b[0m \u001b[0mlib\u001b[0m\u001b[0;34m.\u001b[0m\u001b[0mmax_len_string_array\u001b[0m\u001b[0;34m(\u001b[0m\u001b[0mcom\u001b[0m\u001b[0;34m.\u001b[0m\u001b[0m_ensure_object\u001b[0m\u001b[0;34m(\u001b[0m\u001b[0mdata\u001b[0m\u001b[0;34m)\u001b[0m\u001b[0;34m)\u001b[0m\u001b[0;34m\u001b[0m\u001b[0m\n\u001b[0m\u001b[1;32m   4483\u001b[0m         \u001b[0;32mif\u001b[0m \u001b[0mcompat\u001b[0m\u001b[0;34m.\u001b[0m\u001b[0mPY3\u001b[0m\u001b[0;34m:\u001b[0m\u001b[0;34m\u001b[0m\u001b[0m\n\u001b[1;32m   4484\u001b[0m             \u001b[0mdtype\u001b[0m \u001b[0;34m=\u001b[0m \u001b[0;34m\"U{0}\"\u001b[0m\u001b[0;34m.\u001b[0m\u001b[0mformat\u001b[0m\u001b[0;34m(\u001b[0m\u001b[0mitemsize\u001b[0m\u001b[0;34m)\u001b[0m\u001b[0;34m\u001b[0m\u001b[0m\n",
      "\u001b[0;31mKeyboardInterrupt\u001b[0m: "
     ]
    },
    {
     "name": "stdout",
     "output_type": "stream",
     "text": [
      "In [27] used 2243.570 MiB RAM in 53.617s, peaked 0.000 MiB above current, total RAM usage 6453.254 MiB\n"
     ]
    }
   ],
   "source": [
    "df3 = store.select('key_name2', where='MAPQ==25 & FLAG==0') # HUGE QUERY!!!"
   ]
  },
  {
   "cell_type": "code",
   "execution_count": null,
   "metadata": {
    "collapsed": false
   },
   "outputs": [],
   "source": [
    "df3.shape"
   ]
  },
  {
   "cell_type": "code",
   "execution_count": null,
   "metadata": {
    "collapsed": true
   },
   "outputs": [],
   "source": []
  },
  {
   "cell_type": "code",
   "execution_count": null,
   "metadata": {
    "collapsed": true
   },
   "outputs": [],
   "source": [
    "df = pd.read_table(fname, names= ['QNAME', 'FLAG', 'RNAME', 'POS', 'MAPQ', 'CIGAR', \n",
    "                                  'RNEXT', 'PNEXT', 'TLEN', 'SEQ', 'QUAL', 'COL12', 'COL13', 'COL14'], header=None)"
   ]
  },
  {
   "cell_type": "code",
   "execution_count": null,
   "metadata": {
    "collapsed": true
   },
   "outputs": [],
   "source": [
    "store.append('key_name', df, data_columns=['QNAME'])\n"
   ]
  },
  {
   "cell_type": "code",
   "execution_count": null,
   "metadata": {
    "collapsed": true
   },
   "outputs": [],
   "source": []
  }
 ],
 "metadata": {
  "kernelspec": {
   "display_name": "Python 3",
   "language": "python",
   "name": "python3"
  },
  "language_info": {
   "codemirror_mode": {
    "name": "ipython",
    "version": 3
   },
   "file_extension": ".py",
   "mimetype": "text/x-python",
   "name": "python",
   "nbconvert_exporter": "python",
   "pygments_lexer": "ipython3",
   "version": "3.4.5"
  }
 },
 "nbformat": 4,
 "nbformat_minor": 0
}
